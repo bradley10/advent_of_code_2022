{
 "cells": [
  {
   "cell_type": "markdown",
   "metadata": {},
   "source": [
    "https://adventofcode.com/2022/day/2"
   ]
  },
  {
   "cell_type": "code",
   "execution_count": 50,
   "metadata": {},
   "outputs": [],
   "source": [
    "input = []\n",
    "with open(\"puzzle_input.txt\") as file:\n",
    "    for line in file:\n",
    "        input.append(line.rstrip())\n"
   ]
  },
  {
   "cell_type": "code",
   "execution_count": 51,
   "metadata": {},
   "outputs": [],
   "source": [
    "key = {\n",
    "    \"A\": 1,  # \"rock\",\n",
    "    \"B\": 2,  # \"paper\",\n",
    "    \"C\": 3,  # \"scissors\",\n",
    "    \"X\": 1,  # \"rock\",\n",
    "    \"Y\": 2,  # \"paper\",\n",
    "    \"Z\": 3,  # \"scissors\",\n",
    "}\n",
    "\n",
    "\n",
    "def winner(opponent, me):\n",
    "    if key[me] - key[opponent] in [1, -2]:\n",
    "        return 6\n",
    "\n",
    "    if key[opponent] == key[me]:\n",
    "        return 3\n",
    "\n",
    "    return 0\n"
   ]
  },
  {
   "cell_type": "code",
   "execution_count": 52,
   "metadata": {},
   "outputs": [
    {
     "name": "stdout",
     "output_type": "stream",
     "text": [
      "13005\n"
     ]
    }
   ],
   "source": [
    "score = 0\n",
    "for game in input:\n",
    "    score += key[game[2]] + winner(game[0], game[2])\n",
    "\n",
    "print(score)\n"
   ]
  },
  {
   "cell_type": "code",
   "execution_count": 59,
   "metadata": {},
   "outputs": [],
   "source": [
    "key = {\n",
    "    \"A\": 1,  # \"rock\",\n",
    "    \"B\": 2,  # \"paper\",\n",
    "    \"C\": 3,  # \"scissors\",\n",
    "    \"X\": 0,  # \"lose\",\n",
    "    \"Y\": 3,  # \"draw\",\n",
    "    \"Z\": 6,  # \"win\",\n",
    "}\n",
    "\n",
    "\n",
    "def winner(opponent, me):\n",
    "\n",
    "    # lose\n",
    "    if key[me] == 0:\n",
    "        if key[opponent] == 1:\n",
    "            return 3\n",
    "        else:\n",
    "            return key[opponent] - 1\n",
    "\n",
    "    # win\n",
    "    if key[me] == 6:\n",
    "        if key[opponent] == 3:\n",
    "            return 6 + 1\n",
    "        else:\n",
    "            return 6 + key[opponent] + 1\n",
    "\n",
    "    # draw\n",
    "    return key[opponent] + 3\n"
   ]
  },
  {
   "cell_type": "code",
   "execution_count": 58,
   "metadata": {},
   "outputs": [
    {
     "name": "stdout",
     "output_type": "stream",
     "text": [
      "11373\n"
     ]
    }
   ],
   "source": [
    "score = 0\n",
    "for game in input:\n",
    "    score += winner(game[0], game[2])\n",
    "\n",
    "print(score)\n"
   ]
  },
  {
   "cell_type": "markdown",
   "metadata": {},
   "source": []
  },
  {
   "cell_type": "code",
   "execution_count": null,
   "metadata": {},
   "outputs": [],
   "source": []
  }
 ],
 "metadata": {
  "kernelspec": {
   "display_name": "Python 3.9.6 64-bit",
   "language": "python",
   "name": "python3"
  },
  "language_info": {
   "codemirror_mode": {
    "name": "ipython",
    "version": 3
   },
   "file_extension": ".py",
   "mimetype": "text/x-python",
   "name": "python",
   "nbconvert_exporter": "python",
   "pygments_lexer": "ipython3",
   "version": "3.9.6"
  },
  "orig_nbformat": 4,
  "vscode": {
   "interpreter": {
    "hash": "aee8b7b246df8f9039afb4144a1f6fd8d2ca17a180786b69acc140d282b71a49"
   }
  }
 },
 "nbformat": 4,
 "nbformat_minor": 2
}
